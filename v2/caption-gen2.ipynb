{
 "cells": [
  {
   "cell_type": "code",
   "execution_count": null,
   "metadata": {},
   "outputs": [],
   "source": [
    "import json\n",
    "import random\n",
    "from datasets import load_dataset\n",
    "from transformers import AutoProcessor, AutoModelForCausalLM, TrainingArguments, Trainer\n",
    "from evaluate import load\n",
    "import torch\n",
    "from huggingface_hub import login\n",
    "from tqdm.notebook import tqdm"
   ]
  },
  {
   "cell_type": "code",
   "execution_count": null,
   "metadata": {},
   "outputs": [],
   "source": [
    "with open(\"token.txt\", \"r\") as f:\n",
    "    access_token = f.read()\n",
    "\n",
    "login(access_token)"
   ]
  },
  {
   "cell_type": "code",
   "execution_count": null,
   "metadata": {},
   "outputs": [],
   "source": [
    "# Directory name of the text data\n",
    "dataset_text_dirname = \"Flicker8k_text\"\n",
    "\n",
    "# Directory name of the image data\n",
    "dataset_image_dirname = \"Flicker8k_dataset\""
   ]
  },
  {
   "cell_type": "code",
   "execution_count": null,
   "metadata": {},
   "outputs": [],
   "source": [
    "# Utility\n",
    "\n",
    "def load_file(filepath: str) -> str:\n",
    "    \"\"\"\n",
    "    @param filepath path of the file to be loaded\n",
    "    @return the contents of the file\n",
    "    \"\"\"\n",
    "    file = open(filepath, \"r\")\n",
    "    text = file.read()\n",
    "    file.close()\n",
    "    return text"
   ]
  },
  {
   "cell_type": "code",
   "execution_count": null,
   "metadata": {},
   "outputs": [],
   "source": [
    "# Process text dataset into descriptions\n",
    "\n",
    "def get_descriptions(dataset_text_filepath: str) -> list[dict[str, str]]:\n",
    "    \"\"\"\n",
    "    Load the descriptions from the text dataset into a dictionary\n",
    "    Descriptions that contain multiple captions are filtered and a random caption is selected\n",
    "\n",
    "    @param dataset_text_filepath path of the file containing image ids and captions\n",
    "        >>> file contents\n",
    "        1000268201_693b08cb0e.jpg#0\\tA child in a pink dress is climbing up a set of stairs in an entry way .\\n\n",
    "        1000268201_693b08cb0e.jpg#1\\tA girl going into a wooden building .\\n\n",
    "        ...\n",
    "    @return a list of dictionaries ({\"file_name\": IMG_ID, \"text\": CAPTION})\n",
    "    \"\"\"\n",
    "    text = load_file(dataset_text_filepath)\n",
    "    entries = text.split(\"\\n\")\n",
    "\n",
    "    id_caption_pairs = {}\n",
    "    for entry in entries:\n",
    "        if entry == \"\":\n",
    "            continue\n",
    "\n",
    "        img_id, caption = entry.split(\"\\t\")\n",
    "\n",
    "        # Strip numbers off id (ie \"1000268201_693b08cb0e.jpg#0\" -> \"1000268201_693b08cb0e.jpg\")\n",
    "        img_id = img_id[:-2]\n",
    "\n",
    "        # Strip excess whitespace and period off caption\n",
    "        caption = caption.rstrip(\".\")\n",
    "        caption = caption.strip()\n",
    "\n",
    "        if img_id not in id_caption_pairs:\n",
    "            id_caption_pairs[img_id] = [caption]\n",
    "        else:\n",
    "            id_caption_pairs[img_id].append(caption)\n",
    "\n",
    "    descriptions = []\n",
    "    for img_id, captions in id_caption_pairs.items():\n",
    "        description = {}\n",
    "        description[\"file_name\"] = img_id\n",
    "        description[\"text\"] = random.choice(captions)\n",
    "        descriptions.append(description)\n",
    "\n",
    "    return descriptions\n",
    "\n",
    "def save_descriptions(dirpath: str, descriptions: list[dict[str, str]]) -> None:\n",
    "    \"\"\"\n",
    "    Write the descriptions to a dataset (metadata.jsonl) file\n",
    "\n",
    "    @param dirpath path to the directory containing the image dataset\n",
    "    @param descriptions a list of dictionaries ({\"file_name\": IMG_ID, \"text\": CAPTION})\n",
    "    \"\"\"\n",
    "    with open(dirpath + \"/metadata.jsonl\", \"w\") as f:\n",
    "        for description in descriptions:\n",
    "            f.write(json.dumps(description) + \"\\n\")"
   ]
  },
  {
   "cell_type": "code",
   "execution_count": null,
   "metadata": {},
   "outputs": [],
   "source": [
    "# Load in the image-caption pair dataset\n",
    "\n",
    "text_filename = \"Flickr8k.token.txt\"\n",
    "text_path = dataset_text_dirname + \"/\" + text_filename\n",
    "descriptions = get_descriptions(text_path)\n",
    "save_descriptions(dataset_image_dirname, descriptions)"
   ]
  },
  {
   "cell_type": "code",
   "execution_count": null,
   "metadata": {},
   "outputs": [],
   "source": [
    "# Transform the dataset into a 🤗 Dataset\n",
    "\n",
    "ds = load_dataset(\"imagefolder\", data_dir=dataset_image_dirname, split=\"train\")\n",
    "ds = ds.train_test_split(test_size=0.1)\n",
    "print(ds)\n",
    "train_ds = ds[\"train\"]\n",
    "test_ds = ds[\"test\"]"
   ]
  },
  {
   "cell_type": "code",
   "execution_count": null,
   "metadata": {},
   "outputs": [],
   "source": [
    "# Preprocess the dataset\n",
    "\n",
    "checkpoint = \"microsoft/git-base\"\n",
    "processor = AutoProcessor.from_pretrained(checkpoint)\n",
    "\n",
    "def transforms(example_batch):\n",
    "    images = [x for x in example_batch[\"image\"]]\n",
    "    captions = [x for x in example_batch[\"text\"]]\n",
    "    inputs = processor(images=images, text=captions, padding=\"max_length\")\n",
    "    inputs.update({\"labels\": inputs[\"input_ids\"]})\n",
    "    return inputs\n",
    "\n",
    "train_ds.set_transform(transforms)\n",
    "test_ds.set_transform(transforms)"
   ]
  },
  {
   "cell_type": "code",
   "execution_count": null,
   "metadata": {},
   "outputs": [],
   "source": [
    "model = AutoModelForCausalLM.from_pretrained(checkpoint)\n",
    "\n",
    "wer = load(\"wer\")\n",
    "\n",
    "def compute_metrics(eval_pred):\n",
    "    logits, labels = eval_pred\n",
    "    predicted = logits.argmax(-1)\n",
    "    decoded_labels = processor.batch_decode(labels, skip_special_tokens=True)\n",
    "    decoded_predictions = processor.batch_decode(predicted, skip_special_tokens=True)\n",
    "    wer_score = wer.compute(predictions=decoded_predictions, references=decoded_labels)\n",
    "    return {\"wer_score\": wer_score}\n",
    "\n",
    "model_dirname = \"models\"\n",
    "args = TrainingArguments(\n",
    "    output_dir=model_dirname,\n",
    "    overwrite_output_dir=True,\n",
    "    learning_rate=5e-5,\n",
    "    num_train_epochs=1,\n",
    "    optim=\"adafactor\",\n",
    "    fp16=False,\n",
    "    bf16_full_eval=True,\n",
    "    half_precision_backend=\"auto\",\n",
    "    per_device_train_batch_size=1,\n",
    "    per_device_eval_batch_size=1,\n",
    "    gradient_accumulation_steps=4,\n",
    "    gradient_checkpointing=True,\n",
    "    eval_accumulation_steps=4,\n",
    "    evaluation_strategy=\"steps\",\n",
    "    eval_steps=10,\n",
    "    save_strategy=\"steps\",\n",
    "    save_steps=10,\n",
    "    logging_strategy=\"steps\",\n",
    "    logging_steps=10,\n",
    "    remove_unused_columns=False,\n",
    "    push_to_hub=False,\n",
    "    label_names=[\"labels\"],\n",
    "    load_best_model_at_end=True,\n",
    ")\n",
    "\n",
    "trainer = Trainer(\n",
    "    model=model,\n",
    "    args=args,\n",
    "    train_dataset=train_ds,\n",
    "    eval_dataset=test_ds,\n",
    "    compute_metrics=compute_metrics,\n",
    ")\n",
    "\n",
    "trainer.train()\n",
    "trainer.save_model(model_dirname)"
   ]
  }
 ],
 "metadata": {
  "kernelspec": {
   "display_name": "Python 3.11.3 64-bit (microsoft store)",
   "language": "python",
   "name": "python3"
  },
  "language_info": {
   "codemirror_mode": {
    "name": "ipython",
    "version": 3
   },
   "file_extension": ".py",
   "mimetype": "text/x-python",
   "name": "python",
   "nbconvert_exporter": "python",
   "pygments_lexer": "ipython3",
   "version": "3.11.4"
  },
  "orig_nbformat": 4,
  "vscode": {
   "interpreter": {
    "hash": "0a6fbbda9a332fbeb69584f890bbc13262a5a64e4479e957e165bbafac6deac3"
   }
  }
 },
 "nbformat": 4,
 "nbformat_minor": 2
}
